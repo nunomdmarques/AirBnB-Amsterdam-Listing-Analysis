{
 "cells": [
  {
   "cell_type": "markdown",
   "id": "f3ad922d-8e4e-460d-8a84-1f743fb27c94",
   "metadata": {},
   "source": [
    "## Glossary\n",
    "### 1. Import Libraries\n",
    "### 2. Import Files\n",
    "### 3. Join Datasets\n",
    "### 4. Export Files\n",
    "### 5. Decriptive Statistics"
   ]
  },
  {
   "cell_type": "markdown",
   "id": "4406ce90-c306-457b-880e-c9388d200e60",
   "metadata": {},
   "source": [
    "### 1. Import Libraries\n"
   ]
  },
  {
   "cell_type": "code",
   "execution_count": 2,
   "id": "2ba82e48-200e-45d9-bc94-41860e29e101",
   "metadata": {},
   "outputs": [],
   "source": [
    "import numpy as npp\n",
    "import pandas as pd\n",
    "import os"
   ]
  },
  {
   "cell_type": "markdown",
   "id": "8498a376-faa9-4006-8993-43bbd853b309",
   "metadata": {},
   "source": [
    "### 2. Import Files"
   ]
  },
  {
   "cell_type": "code",
   "execution_count": 3,
   "id": "70ce6fa2-b364-4b4a-9feb-82b95a233db5",
   "metadata": {},
   "outputs": [],
   "source": [
    "path= r'C:\\Users\\Nuno\\05-2024 AirBnB Amsterdam Analysis'"
   ]
  },
  {
   "cell_type": "code",
   "execution_count": 4,
   "id": "110c0d48-1f0b-4a03-8290-a9cd8c7d0a1e",
   "metadata": {},
   "outputs": [],
   "source": [
    "clusters = pd.read_csv(os.path.join(path,'02 Data','Prepared Data','score_analysis_with_clusters.csv'))\n",
    "listings = pd.read_csv(os.path.join(path,'02 Data','Prepared Data','df_listings_details_cleaned.csv'))"
   ]
  },
  {
   "cell_type": "code",
   "execution_count": 5,
   "id": "c26dbeeb-09ef-417f-bb95-46ffbda0939a",
   "metadata": {},
   "outputs": [
    {
     "data": {
      "text/plain": [
       "Index(['Unnamed: 0', 'id', 'host_id', 'host_since', 'host_is_superhost',\n",
       "       'host_listings_count', 'neighbourhood_cleansed', 'latitude',\n",
       "       'longitude', 'property_type', 'room_type', 'accommodates', 'bathrooms',\n",
       "       'bedrooms', 'beds', 'bed_type', 'amenities', 'price', 'guests_included',\n",
       "       'extra_people', 'minimum_nights', 'maximum_nights', 'has_availability',\n",
       "       'availability_30', 'availability_60', 'availability_90',\n",
       "       'availability_365', 'number_of_reviews', 'first_review', 'last_review',\n",
       "       'review_scores_rating', 'cancellation_policy',\n",
       "       'calculated_host_listings_count', 'reviews_per_month', 'clusters',\n",
       "       'cluster'],\n",
       "      dtype='object')"
      ]
     },
     "execution_count": 5,
     "metadata": {},
     "output_type": "execute_result"
    }
   ],
   "source": [
    "clusters.columns"
   ]
  },
  {
   "cell_type": "code",
   "execution_count": 6,
   "id": "19b49dcf-10d8-484c-92e0-9d614e2bb157",
   "metadata": {},
   "outputs": [
    {
     "data": {
      "text/plain": [
       "Index(['Unnamed: 0', 'id', 'host_id', 'host_since', 'host_is_superhost',\n",
       "       'host_listings_count', 'neighbourhood_cleansed', 'latitude',\n",
       "       'longitude', 'property_type', 'room_type', 'accommodates', 'bathrooms',\n",
       "       'bedrooms', 'beds', 'bed_type', 'amenities', 'price', 'guests_included',\n",
       "       'extra_people', 'minimum_nights', 'maximum_nights', 'has_availability',\n",
       "       'availability_30', 'availability_60', 'availability_90',\n",
       "       'availability_365', 'number_of_reviews', 'cancellation_policy',\n",
       "       'calculated_host_listings_count'],\n",
       "      dtype='object')"
      ]
     },
     "execution_count": 6,
     "metadata": {},
     "output_type": "execute_result"
    }
   ],
   "source": [
    "listings.columns"
   ]
  },
  {
   "cell_type": "markdown",
   "id": "0e498b4b-e9b9-4e42-a49d-189b92ad87e3",
   "metadata": {},
   "source": [
    "### 3. Join Datasets"
   ]
  },
  {
   "cell_type": "code",
   "execution_count": 7,
   "id": "28d43485-bb32-4fc7-bfb7-b6cf4d191495",
   "metadata": {},
   "outputs": [],
   "source": [
    "listings_with_clusters = listings.merge(clusters[['id', 'cluster']], on='id', how='right')"
   ]
  },
  {
   "cell_type": "code",
   "execution_count": 8,
   "id": "9a91ffd1-d607-40bd-a2fd-834746bfea90",
   "metadata": {},
   "outputs": [
    {
     "data": {
      "text/html": [
       "<div>\n",
       "<style scoped>\n",
       "    .dataframe tbody tr th:only-of-type {\n",
       "        vertical-align: middle;\n",
       "    }\n",
       "\n",
       "    .dataframe tbody tr th {\n",
       "        vertical-align: top;\n",
       "    }\n",
       "\n",
       "    .dataframe thead th {\n",
       "        text-align: right;\n",
       "    }\n",
       "</style>\n",
       "<table border=\"1\" class=\"dataframe\">\n",
       "  <thead>\n",
       "    <tr style=\"text-align: right;\">\n",
       "      <th></th>\n",
       "      <th>Unnamed: 0</th>\n",
       "      <th>id</th>\n",
       "      <th>host_id</th>\n",
       "      <th>host_since</th>\n",
       "      <th>host_is_superhost</th>\n",
       "      <th>host_listings_count</th>\n",
       "      <th>neighbourhood_cleansed</th>\n",
       "      <th>latitude</th>\n",
       "      <th>longitude</th>\n",
       "      <th>property_type</th>\n",
       "      <th>...</th>\n",
       "      <th>maximum_nights</th>\n",
       "      <th>has_availability</th>\n",
       "      <th>availability_30</th>\n",
       "      <th>availability_60</th>\n",
       "      <th>availability_90</th>\n",
       "      <th>availability_365</th>\n",
       "      <th>number_of_reviews</th>\n",
       "      <th>cancellation_policy</th>\n",
       "      <th>calculated_host_listings_count</th>\n",
       "      <th>cluster</th>\n",
       "    </tr>\n",
       "  </thead>\n",
       "  <tbody>\n",
       "    <tr>\n",
       "      <th>0</th>\n",
       "      <td>0.0</td>\n",
       "      <td>2818</td>\n",
       "      <td>3159.0</td>\n",
       "      <td>2008-09-24</td>\n",
       "      <td>t</td>\n",
       "      <td>1.0</td>\n",
       "      <td>Oostelijk Havengebied - Indische Buurt</td>\n",
       "      <td>52.365755</td>\n",
       "      <td>4.941419</td>\n",
       "      <td>Apartment</td>\n",
       "      <td>...</td>\n",
       "      <td>15.0</td>\n",
       "      <td>t</td>\n",
       "      <td>17.0</td>\n",
       "      <td>44.0</td>\n",
       "      <td>44.0</td>\n",
       "      <td>44.0</td>\n",
       "      <td>248.0</td>\n",
       "      <td>strict_14_with_grace_period</td>\n",
       "      <td>1.0</td>\n",
       "      <td>low price high availability</td>\n",
       "    </tr>\n",
       "    <tr>\n",
       "      <th>1</th>\n",
       "      <td>1.0</td>\n",
       "      <td>3209</td>\n",
       "      <td>3806.0</td>\n",
       "      <td>2008-10-24</td>\n",
       "      <td>f</td>\n",
       "      <td>1.0</td>\n",
       "      <td>Westerpark</td>\n",
       "      <td>52.390225</td>\n",
       "      <td>4.873924</td>\n",
       "      <td>Apartment</td>\n",
       "      <td>...</td>\n",
       "      <td>20.0</td>\n",
       "      <td>t</td>\n",
       "      <td>0.0</td>\n",
       "      <td>0.0</td>\n",
       "      <td>0.0</td>\n",
       "      <td>47.0</td>\n",
       "      <td>42.0</td>\n",
       "      <td>moderate</td>\n",
       "      <td>1.0</td>\n",
       "      <td>avg price low availability short term rentals</td>\n",
       "    </tr>\n",
       "    <tr>\n",
       "      <th>2</th>\n",
       "      <td>2.0</td>\n",
       "      <td>20168</td>\n",
       "      <td>59484.0</td>\n",
       "      <td>2009-12-02</td>\n",
       "      <td>f</td>\n",
       "      <td>2.0</td>\n",
       "      <td>Centrum-Oost</td>\n",
       "      <td>52.365087</td>\n",
       "      <td>4.893541</td>\n",
       "      <td>Townhouse</td>\n",
       "      <td>...</td>\n",
       "      <td>1000.0</td>\n",
       "      <td>t</td>\n",
       "      <td>0.0</td>\n",
       "      <td>7.0</td>\n",
       "      <td>24.0</td>\n",
       "      <td>198.0</td>\n",
       "      <td>233.0</td>\n",
       "      <td>strict_14_with_grace_period</td>\n",
       "      <td>2.0</td>\n",
       "      <td>low price high availability</td>\n",
       "    </tr>\n",
       "    <tr>\n",
       "      <th>3</th>\n",
       "      <td>3.0</td>\n",
       "      <td>25428</td>\n",
       "      <td>56142.0</td>\n",
       "      <td>2009-11-20</td>\n",
       "      <td>f</td>\n",
       "      <td>2.0</td>\n",
       "      <td>Centrum-West</td>\n",
       "      <td>52.373114</td>\n",
       "      <td>4.883668</td>\n",
       "      <td>Apartment</td>\n",
       "      <td>...</td>\n",
       "      <td>60.0</td>\n",
       "      <td>t</td>\n",
       "      <td>2.0</td>\n",
       "      <td>32.0</td>\n",
       "      <td>44.0</td>\n",
       "      <td>141.0</td>\n",
       "      <td>1.0</td>\n",
       "      <td>strict_14_with_grace_period</td>\n",
       "      <td>2.0</td>\n",
       "      <td>avg price low availability short term rentals</td>\n",
       "    </tr>\n",
       "    <tr>\n",
       "      <th>4</th>\n",
       "      <td>4.0</td>\n",
       "      <td>27886</td>\n",
       "      <td>97647.0</td>\n",
       "      <td>2010-03-23</td>\n",
       "      <td>t</td>\n",
       "      <td>1.0</td>\n",
       "      <td>Centrum-West</td>\n",
       "      <td>52.386727</td>\n",
       "      <td>4.892078</td>\n",
       "      <td>Houseboat</td>\n",
       "      <td>...</td>\n",
       "      <td>730.0</td>\n",
       "      <td>t</td>\n",
       "      <td>16.0</td>\n",
       "      <td>37.0</td>\n",
       "      <td>54.0</td>\n",
       "      <td>199.0</td>\n",
       "      <td>171.0</td>\n",
       "      <td>strict_14_with_grace_period</td>\n",
       "      <td>1.0</td>\n",
       "      <td>low price high availability</td>\n",
       "    </tr>\n",
       "  </tbody>\n",
       "</table>\n",
       "<p>5 rows × 31 columns</p>\n",
       "</div>"
      ],
      "text/plain": [
       "   Unnamed: 0     id  host_id  host_since host_is_superhost  \\\n",
       "0         0.0   2818   3159.0  2008-09-24                 t   \n",
       "1         1.0   3209   3806.0  2008-10-24                 f   \n",
       "2         2.0  20168  59484.0  2009-12-02                 f   \n",
       "3         3.0  25428  56142.0  2009-11-20                 f   \n",
       "4         4.0  27886  97647.0  2010-03-23                 t   \n",
       "\n",
       "   host_listings_count                  neighbourhood_cleansed   latitude  \\\n",
       "0                  1.0  Oostelijk Havengebied - Indische Buurt  52.365755   \n",
       "1                  1.0                              Westerpark  52.390225   \n",
       "2                  2.0                            Centrum-Oost  52.365087   \n",
       "3                  2.0                            Centrum-West  52.373114   \n",
       "4                  1.0                            Centrum-West  52.386727   \n",
       "\n",
       "   longitude property_type  ... maximum_nights  has_availability  \\\n",
       "0   4.941419     Apartment  ...           15.0                 t   \n",
       "1   4.873924     Apartment  ...           20.0                 t   \n",
       "2   4.893541     Townhouse  ...         1000.0                 t   \n",
       "3   4.883668     Apartment  ...           60.0                 t   \n",
       "4   4.892078     Houseboat  ...          730.0                 t   \n",
       "\n",
       "   availability_30  availability_60  availability_90 availability_365  \\\n",
       "0             17.0             44.0             44.0             44.0   \n",
       "1              0.0              0.0              0.0             47.0   \n",
       "2              0.0              7.0             24.0            198.0   \n",
       "3              2.0             32.0             44.0            141.0   \n",
       "4             16.0             37.0             54.0            199.0   \n",
       "\n",
       "  number_of_reviews          cancellation_policy  \\\n",
       "0             248.0  strict_14_with_grace_period   \n",
       "1              42.0                     moderate   \n",
       "2             233.0  strict_14_with_grace_period   \n",
       "3               1.0  strict_14_with_grace_period   \n",
       "4             171.0  strict_14_with_grace_period   \n",
       "\n",
       "   calculated_host_listings_count  \\\n",
       "0                             1.0   \n",
       "1                             1.0   \n",
       "2                             2.0   \n",
       "3                             2.0   \n",
       "4                             1.0   \n",
       "\n",
       "                                         cluster  \n",
       "0                    low price high availability  \n",
       "1  avg price low availability short term rentals  \n",
       "2                    low price high availability  \n",
       "3  avg price low availability short term rentals  \n",
       "4                    low price high availability  \n",
       "\n",
       "[5 rows x 31 columns]"
      ]
     },
     "execution_count": 8,
     "metadata": {},
     "output_type": "execute_result"
    }
   ],
   "source": [
    "listings_with_clusters.head()"
   ]
  },
  {
   "cell_type": "code",
   "execution_count": 9,
   "id": "164bd996-84bb-428c-8d67-f74653b8a89b",
   "metadata": {},
   "outputs": [
    {
     "data": {
      "text/plain": [
       "(17069, 31)"
      ]
     },
     "execution_count": 9,
     "metadata": {},
     "output_type": "execute_result"
    }
   ],
   "source": [
    "listings_with_clusters.shape"
   ]
  },
  {
   "cell_type": "code",
   "execution_count": 10,
   "id": "7cbb00f3-095f-41b4-a3e2-66b4c9f2aafe",
   "metadata": {},
   "outputs": [
    {
     "data": {
      "text/plain": [
       "cluster\n",
       "avg price low availability                       7310\n",
       "avg price low availability short term rentals    6331\n",
       "avg price high availability                      2077\n",
       "low price high availability                      1117\n",
       "high price high availability                      234\n",
       "Name: count, dtype: int64"
      ]
     },
     "execution_count": 10,
     "metadata": {},
     "output_type": "execute_result"
    }
   ],
   "source": [
    "listings_with_clusters['cluster'].value_counts()"
   ]
  },
  {
   "cell_type": "code",
   "execution_count": 10,
   "id": "054f74d1-6258-4b7b-b211-8f56618898e0",
   "metadata": {},
   "outputs": [],
   "source": [
    "# Dropping the cluster black, which has only two values\n",
    "listings_with_clusters = listings_with_clusters[listings_with_clusters['cluster'] != 'black']"
   ]
  },
  {
   "cell_type": "markdown",
   "id": "da26fbd9-7572-4852-b90a-21ee624a2f2c",
   "metadata": {},
   "source": [
    "### 4. Export Files"
   ]
  },
  {
   "cell_type": "code",
   "execution_count": 12,
   "id": "afa2df15-a189-4550-8831-3c4847e0aa10",
   "metadata": {},
   "outputs": [],
   "source": [
    "listings_with_clusters.to_csv(os.path.join(path,'02 Data','Prepared Data', 'listings_with_clusters.csv'))"
   ]
  },
  {
   "cell_type": "code",
   "execution_count": 11,
   "id": "622e3571-2311-40ce-bbf5-ceb7eb09163c",
   "metadata": {},
   "outputs": [
    {
     "data": {
      "text/plain": [
       "(17069, 31)"
      ]
     },
     "execution_count": 11,
     "metadata": {},
     "output_type": "execute_result"
    }
   ],
   "source": [
    "listings_with_clusters.shape"
   ]
  },
  {
   "cell_type": "code",
   "execution_count": null,
   "id": "3695f008-6860-4b6e-82a7-60327924b6e2",
   "metadata": {},
   "outputs": [],
   "source": []
  }
 ],
 "metadata": {
  "kernelspec": {
   "display_name": "Python 3 (ipykernel)",
   "language": "python",
   "name": "python3"
  },
  "language_info": {
   "codemirror_mode": {
    "name": "ipython",
    "version": 3
   },
   "file_extension": ".py",
   "mimetype": "text/x-python",
   "name": "python",
   "nbconvert_exporter": "python",
   "pygments_lexer": "ipython3",
   "version": "3.11.5"
  }
 },
 "nbformat": 4,
 "nbformat_minor": 5
}
