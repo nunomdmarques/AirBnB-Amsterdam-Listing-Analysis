{
 "cells": [
  {
   "cell_type": "markdown",
   "id": "b67b6998-d5b2-4d10-ac3e-e263b022c3bb",
   "metadata": {},
   "source": [
    "# Data Cleaning and Consistency Checks"
   ]
  },
  {
   "cell_type": "markdown",
   "id": "d13bade1-e2ff-4f10-9c81-86919b1595ae",
   "metadata": {},
   "source": [
    "# Glossary\n",
    "### 1. Importing Libraries\n",
    "### 2. Importing Files\n",
    "### 3. Describing Dataset\n",
    "### 4. Consistency Checks\n",
    "##### 4.1 Missing Data\n",
    "##### 4.2 Duplicates\n",
    "##### 4.3 Data Types\n",
    "### 5. Data Cleaning\n",
    "### 6. Descriptive Statistics\n",
    "##### 6.1 Descriptive analysis pre-dropping all collums with NaN\n",
    "##### 6.2 Descriptive analysis after dropping all collums with NaN\n",
    "##### 6.3 Descriptive analysis for the qualitative columns without missing values\n",
    "### 7. Saving Final files"
   ]
  },
  {
   "cell_type": "markdown",
   "id": "04141b0c-0fa9-4f2f-b923-896832be5116",
   "metadata": {},
   "source": [
    "## 1. Importing Libraries"
   ]
  },
  {
   "cell_type": "code",
   "execution_count": 1,
   "id": "a008c10f-af51-4821-83d3-4430476cadfe",
   "metadata": {},
   "outputs": [],
   "source": [
    "# Importing necessary libraries for importing, analyzing and cleaning data\n",
    "import numpy as np\n",
    "import pandas as pd\n",
    "import os"
   ]
  },
  {
   "cell_type": "markdown",
   "id": "2e0285b1-5f6d-411e-ab75-e85ac002106e",
   "metadata": {},
   "source": [
    "## 2. Importing Files"
   ]
  },
  {
   "cell_type": "code",
   "execution_count": 2,
   "id": "8723a019-de1f-4cde-a94a-bb267ffe3423",
   "metadata": {},
   "outputs": [],
   "source": [
    "#creating list of columns to import from the orders file. The original file has 96 columns and we only want 40 of them\n",
    "vars_list = ['id', 'host_id', 'host_since', 'host_response_time', 'host_response_rate','host_is_superhost','neighbourhood_cleansed','host_listings_count','latitude','longitude','property_type','room_type','accommodates','bathrooms','bedrooms','beds',\t'bed_type',\t'amenities','square_feet','price','weekly_price','monthly_price','security_deposit','cleaning_fee','guests_included','extra_people','minimum_nights','maximum_nights','has_availability','availability_30','availability_60','availability_90','availability_365','number_of_reviews','first_review','last_review','review_scores_rating','cancellation_policy','calculated_host_listings_count','reviews_per_month']"
   ]
  },
  {
   "cell_type": "code",
   "execution_count": 3,
   "id": "8e0866d7-cf2b-4a0b-ac92-69ed52cf8d08",
   "metadata": {},
   "outputs": [],
   "source": [
    "# Creating path variable for easier importing/exporting\n",
    "path = r'C:\\Users\\Nuno\\05-2024 AirBnB Amsterdam Analysis'\n",
    "#Importing part of the listings_details file\n",
    "df_listings_details = pd.read_csv(os.path.join(path,'02 Data','Original Data','listings_details.csv'),usecols=vars_list,index_col=False)"
   ]
  },
  {
   "cell_type": "markdown",
   "id": "1e881cf8-64a6-4f83-ad1c-b99c3ea5d6fe",
   "metadata": {},
   "source": [
    "## 3. Describing Dataset"
   ]
  },
  {
   "cell_type": "code",
   "execution_count": 4,
   "id": "46297b9d-f370-4fa5-9a93-627fadba3545",
   "metadata": {},
   "outputs": [
    {
     "data": {
      "text/plain": [
       "(20030, 40)"
      ]
     },
     "execution_count": 4,
     "metadata": {},
     "output_type": "execute_result"
    }
   ],
   "source": [
    "#Checking shape of the dataframe\n",
    "df_listings_details.shape"
   ]
  },
  {
   "cell_type": "code",
   "execution_count": 5,
   "id": "7e333b05-33ac-4f48-8d36-8a91d1535473",
   "metadata": {},
   "outputs": [
    {
     "data": {
      "text/html": [
       "<div>\n",
       "<style scoped>\n",
       "    .dataframe tbody tr th:only-of-type {\n",
       "        vertical-align: middle;\n",
       "    }\n",
       "\n",
       "    .dataframe tbody tr th {\n",
       "        vertical-align: top;\n",
       "    }\n",
       "\n",
       "    .dataframe thead th {\n",
       "        text-align: right;\n",
       "    }\n",
       "</style>\n",
       "<table border=\"1\" class=\"dataframe\">\n",
       "  <thead>\n",
       "    <tr style=\"text-align: right;\">\n",
       "      <th></th>\n",
       "      <th>id</th>\n",
       "      <th>host_id</th>\n",
       "      <th>host_since</th>\n",
       "      <th>host_response_time</th>\n",
       "      <th>host_response_rate</th>\n",
       "      <th>host_is_superhost</th>\n",
       "      <th>host_listings_count</th>\n",
       "      <th>neighbourhood_cleansed</th>\n",
       "      <th>latitude</th>\n",
       "      <th>longitude</th>\n",
       "      <th>...</th>\n",
       "      <th>availability_60</th>\n",
       "      <th>availability_90</th>\n",
       "      <th>availability_365</th>\n",
       "      <th>number_of_reviews</th>\n",
       "      <th>first_review</th>\n",
       "      <th>last_review</th>\n",
       "      <th>review_scores_rating</th>\n",
       "      <th>cancellation_policy</th>\n",
       "      <th>calculated_host_listings_count</th>\n",
       "      <th>reviews_per_month</th>\n",
       "    </tr>\n",
       "  </thead>\n",
       "  <tbody>\n",
       "    <tr>\n",
       "      <th>0</th>\n",
       "      <td>2818</td>\n",
       "      <td>3159</td>\n",
       "      <td>2008-09-24</td>\n",
       "      <td>within an hour</td>\n",
       "      <td>100%</td>\n",
       "      <td>t</td>\n",
       "      <td>1.0</td>\n",
       "      <td>Oostelijk Havengebied - Indische Buurt</td>\n",
       "      <td>52.365755</td>\n",
       "      <td>4.941419</td>\n",
       "      <td>...</td>\n",
       "      <td>44</td>\n",
       "      <td>44</td>\n",
       "      <td>44</td>\n",
       "      <td>248</td>\n",
       "      <td>2009-03-30</td>\n",
       "      <td>2018-11-28</td>\n",
       "      <td>97.0</td>\n",
       "      <td>strict_14_with_grace_period</td>\n",
       "      <td>1</td>\n",
       "      <td>2.10</td>\n",
       "    </tr>\n",
       "    <tr>\n",
       "      <th>1</th>\n",
       "      <td>3209</td>\n",
       "      <td>3806</td>\n",
       "      <td>2008-10-24</td>\n",
       "      <td>within an hour</td>\n",
       "      <td>100%</td>\n",
       "      <td>f</td>\n",
       "      <td>1.0</td>\n",
       "      <td>Westerpark</td>\n",
       "      <td>52.390225</td>\n",
       "      <td>4.873924</td>\n",
       "      <td>...</td>\n",
       "      <td>0</td>\n",
       "      <td>0</td>\n",
       "      <td>47</td>\n",
       "      <td>42</td>\n",
       "      <td>2015-07-31</td>\n",
       "      <td>2018-08-29</td>\n",
       "      <td>96.0</td>\n",
       "      <td>moderate</td>\n",
       "      <td>1</td>\n",
       "      <td>1.03</td>\n",
       "    </tr>\n",
       "    <tr>\n",
       "      <th>2</th>\n",
       "      <td>20168</td>\n",
       "      <td>59484</td>\n",
       "      <td>2009-12-02</td>\n",
       "      <td>within a few hours</td>\n",
       "      <td>100%</td>\n",
       "      <td>f</td>\n",
       "      <td>2.0</td>\n",
       "      <td>Centrum-Oost</td>\n",
       "      <td>52.365087</td>\n",
       "      <td>4.893541</td>\n",
       "      <td>...</td>\n",
       "      <td>7</td>\n",
       "      <td>24</td>\n",
       "      <td>198</td>\n",
       "      <td>233</td>\n",
       "      <td>2010-03-02</td>\n",
       "      <td>2018-11-30</td>\n",
       "      <td>87.0</td>\n",
       "      <td>strict_14_with_grace_period</td>\n",
       "      <td>2</td>\n",
       "      <td>2.18</td>\n",
       "    </tr>\n",
       "    <tr>\n",
       "      <th>3</th>\n",
       "      <td>25428</td>\n",
       "      <td>56142</td>\n",
       "      <td>2009-11-20</td>\n",
       "      <td>within a few hours</td>\n",
       "      <td>100%</td>\n",
       "      <td>f</td>\n",
       "      <td>2.0</td>\n",
       "      <td>Centrum-West</td>\n",
       "      <td>52.373114</td>\n",
       "      <td>4.883668</td>\n",
       "      <td>...</td>\n",
       "      <td>32</td>\n",
       "      <td>44</td>\n",
       "      <td>141</td>\n",
       "      <td>1</td>\n",
       "      <td>2018-01-21</td>\n",
       "      <td>2018-01-21</td>\n",
       "      <td>100.0</td>\n",
       "      <td>strict_14_with_grace_period</td>\n",
       "      <td>2</td>\n",
       "      <td>0.09</td>\n",
       "    </tr>\n",
       "    <tr>\n",
       "      <th>4</th>\n",
       "      <td>27886</td>\n",
       "      <td>97647</td>\n",
       "      <td>2010-03-23</td>\n",
       "      <td>within an hour</td>\n",
       "      <td>100%</td>\n",
       "      <td>t</td>\n",
       "      <td>1.0</td>\n",
       "      <td>Centrum-West</td>\n",
       "      <td>52.386727</td>\n",
       "      <td>4.892078</td>\n",
       "      <td>...</td>\n",
       "      <td>37</td>\n",
       "      <td>54</td>\n",
       "      <td>199</td>\n",
       "      <td>171</td>\n",
       "      <td>2012-01-09</td>\n",
       "      <td>2018-11-25</td>\n",
       "      <td>99.0</td>\n",
       "      <td>strict_14_with_grace_period</td>\n",
       "      <td>1</td>\n",
       "      <td>2.03</td>\n",
       "    </tr>\n",
       "  </tbody>\n",
       "</table>\n",
       "<p>5 rows × 40 columns</p>\n",
       "</div>"
      ],
      "text/plain": [
       "      id  host_id  host_since  host_response_time host_response_rate  \\\n",
       "0   2818     3159  2008-09-24      within an hour               100%   \n",
       "1   3209     3806  2008-10-24      within an hour               100%   \n",
       "2  20168    59484  2009-12-02  within a few hours               100%   \n",
       "3  25428    56142  2009-11-20  within a few hours               100%   \n",
       "4  27886    97647  2010-03-23      within an hour               100%   \n",
       "\n",
       "  host_is_superhost  host_listings_count  \\\n",
       "0                 t                  1.0   \n",
       "1                 f                  1.0   \n",
       "2                 f                  2.0   \n",
       "3                 f                  2.0   \n",
       "4                 t                  1.0   \n",
       "\n",
       "                   neighbourhood_cleansed   latitude  longitude  ...  \\\n",
       "0  Oostelijk Havengebied - Indische Buurt  52.365755   4.941419  ...   \n",
       "1                              Westerpark  52.390225   4.873924  ...   \n",
       "2                            Centrum-Oost  52.365087   4.893541  ...   \n",
       "3                            Centrum-West  52.373114   4.883668  ...   \n",
       "4                            Centrum-West  52.386727   4.892078  ...   \n",
       "\n",
       "  availability_60 availability_90  availability_365  number_of_reviews  \\\n",
       "0              44              44                44                248   \n",
       "1               0               0                47                 42   \n",
       "2               7              24               198                233   \n",
       "3              32              44               141                  1   \n",
       "4              37              54               199                171   \n",
       "\n",
       "   first_review  last_review review_scores_rating  \\\n",
       "0    2009-03-30   2018-11-28                 97.0   \n",
       "1    2015-07-31   2018-08-29                 96.0   \n",
       "2    2010-03-02   2018-11-30                 87.0   \n",
       "3    2018-01-21   2018-01-21                100.0   \n",
       "4    2012-01-09   2018-11-25                 99.0   \n",
       "\n",
       "           cancellation_policy  calculated_host_listings_count  \\\n",
       "0  strict_14_with_grace_period                               1   \n",
       "1                     moderate                               1   \n",
       "2  strict_14_with_grace_period                               2   \n",
       "3  strict_14_with_grace_period                               2   \n",
       "4  strict_14_with_grace_period                               1   \n",
       "\n",
       "  reviews_per_month  \n",
       "0              2.10  \n",
       "1              1.03  \n",
       "2              2.18  \n",
       "3              0.09  \n",
       "4              2.03  \n",
       "\n",
       "[5 rows x 40 columns]"
      ]
     },
     "execution_count": 5,
     "metadata": {},
     "output_type": "execute_result"
    }
   ],
   "source": [
    "#Checking import\n",
    "df_listings_details.head()"
   ]
  },
  {
   "cell_type": "code",
   "execution_count": 6,
   "id": "3308f646-0cf6-4547-8dd9-15a0410db4ce",
   "metadata": {},
   "outputs": [
    {
     "data": {
      "text/plain": [
       "id                                  int64\n",
       "host_id                             int64\n",
       "host_since                         object\n",
       "host_response_time                 object\n",
       "host_response_rate                 object\n",
       "host_is_superhost                  object\n",
       "host_listings_count               float64\n",
       "neighbourhood_cleansed             object\n",
       "latitude                          float64\n",
       "longitude                         float64\n",
       "property_type                      object\n",
       "room_type                          object\n",
       "accommodates                        int64\n",
       "bathrooms                         float64\n",
       "bedrooms                          float64\n",
       "beds                              float64\n",
       "bed_type                           object\n",
       "amenities                          object\n",
       "square_feet                       float64\n",
       "price                              object\n",
       "weekly_price                       object\n",
       "monthly_price                      object\n",
       "security_deposit                   object\n",
       "cleaning_fee                       object\n",
       "guests_included                     int64\n",
       "extra_people                       object\n",
       "minimum_nights                      int64\n",
       "maximum_nights                      int64\n",
       "has_availability                   object\n",
       "availability_30                     int64\n",
       "availability_60                     int64\n",
       "availability_90                     int64\n",
       "availability_365                    int64\n",
       "number_of_reviews                   int64\n",
       "first_review                       object\n",
       "last_review                        object\n",
       "review_scores_rating              float64\n",
       "cancellation_policy                object\n",
       "calculated_host_listings_count      int64\n",
       "reviews_per_month                 float64\n",
       "dtype: object"
      ]
     },
     "execution_count": 6,
     "metadata": {},
     "output_type": "execute_result"
    }
   ],
   "source": [
    "# Type of every column\n",
    "df_listings_details.dtypes"
   ]
  },
  {
   "cell_type": "markdown",
   "id": "58883a11-98e4-4b0c-9b97-ed277a044a04",
   "metadata": {},
   "source": [
    "## 4. Consistency Checks"
   ]
  },
  {
   "cell_type": "markdown",
   "id": "c60b0850-6fa2-4766-a81b-204fb00fff0f",
   "metadata": {},
   "source": [
    "### 4.1 Missing Data"
   ]
  },
  {
   "cell_type": "code",
   "execution_count": 7,
   "id": "971e94ed-a59f-44c3-a130-1d9e9d1749ef",
   "metadata": {},
   "outputs": [
    {
     "data": {
      "text/plain": [
       "id                                    0\n",
       "host_id                               0\n",
       "host_since                            4\n",
       "host_response_time                 9483\n",
       "host_response_rate                 9483\n",
       "host_is_superhost                     4\n",
       "host_listings_count                   4\n",
       "neighbourhood_cleansed                0\n",
       "latitude                              0\n",
       "longitude                             0\n",
       "property_type                         0\n",
       "room_type                             0\n",
       "accommodates                          0\n",
       "bathrooms                            10\n",
       "bedrooms                              8\n",
       "beds                                  7\n",
       "bed_type                              0\n",
       "amenities                             0\n",
       "square_feet                       19624\n",
       "price                                 0\n",
       "weekly_price                      17187\n",
       "monthly_price                     18469\n",
       "security_deposit                   6166\n",
       "cleaning_fee                       3629\n",
       "guests_included                       0\n",
       "extra_people                          0\n",
       "minimum_nights                        0\n",
       "maximum_nights                        0\n",
       "has_availability                      0\n",
       "availability_30                       0\n",
       "availability_60                       0\n",
       "availability_90                       0\n",
       "availability_365                      0\n",
       "number_of_reviews                     0\n",
       "first_review                       2406\n",
       "last_review                        2406\n",
       "review_scores_rating               2639\n",
       "cancellation_policy                   0\n",
       "calculated_host_listings_count        0\n",
       "reviews_per_month                  2406\n",
       "dtype: int64"
      ]
     },
     "execution_count": 7,
     "metadata": {},
     "output_type": "execute_result"
    }
   ],
   "source": [
    "# Looking for Missing Values\n",
    "df_listings_details.isnull().sum()"
   ]
  },
  {
   "cell_type": "markdown",
   "id": "f96a333b-1907-4b84-8479-d58827ad2416",
   "metadata": {},
   "source": [
    "### 4.2 Duplicate Values"
   ]
  },
  {
   "cell_type": "code",
   "execution_count": 8,
   "id": "c6b94866-0d0c-4ceb-a097-ba1a3cc35a46",
   "metadata": {},
   "outputs": [
    {
     "data": {
      "text/plain": [
       "0"
      ]
     },
     "execution_count": 8,
     "metadata": {},
     "output_type": "execute_result"
    }
   ],
   "source": [
    "# Looking for duplicate values\n",
    "df_listings_details.duplicated().sum()"
   ]
  },
  {
   "cell_type": "markdown",
   "id": "9aea4ce1-9a92-4d31-b40c-535861890d8e",
   "metadata": {},
   "source": [
    "### 4.3 Data Types"
   ]
  },
  {
   "cell_type": "code",
   "execution_count": 9,
   "id": "bd11231b-a860-4d09-9f49-06aa54097a2e",
   "metadata": {},
   "outputs": [
    {
     "name": "stdout",
     "output_type": "stream",
     "text": [
      "host_since\n",
      "host_response_time\n",
      "host_response_rate\n",
      "host_is_superhost\n",
      "weekly_price\n",
      "monthly_price\n",
      "security_deposit\n",
      "cleaning_fee\n",
      "first_review\n",
      "last_review\n"
     ]
    }
   ],
   "source": [
    "#print columns with mixed data types\n",
    "cols_mixed = []\n",
    "for col in df_listings_details.columns.tolist():\n",
    "  weird = (df_listings_details[[col]].map(type) != df_listings_details[[col]].iloc[0].apply(type)).any(axis = 1)\n",
    "  if len (df_listings_details[weird]) > 0:\n",
    "    cols_mixed.append(col)\n",
    "    print (col)"
   ]
  },
  {
   "cell_type": "code",
   "execution_count": 10,
   "id": "76a79c17-6e9e-4682-8845-d3ed901a9ab3",
   "metadata": {},
   "outputs": [
    {
     "data": {
      "text/plain": [
       "host_since            object\n",
       "host_response_time    object\n",
       "host_response_rate    object\n",
       "host_is_superhost     object\n",
       "weekly_price          object\n",
       "monthly_price         object\n",
       "security_deposit      object\n",
       "cleaning_fee          object\n",
       "first_review          object\n",
       "last_review           object\n",
       "dtype: object"
      ]
     },
     "execution_count": 10,
     "metadata": {},
     "output_type": "execute_result"
    }
   ],
   "source": [
    "# Check the type of mixed type columns\n",
    "df_listings_details[cols_mixed].dtypes"
   ]
  },
  {
   "cell_type": "code",
   "execution_count": 11,
   "id": "5063c3d6-5f8c-4def-846c-e133d51ae5b2",
   "metadata": {},
   "outputs": [],
   "source": [
    "#uniformizing type of collumns as string to remove currency sign, and then converting to numeric, with text entries becoming nulls\n",
    "def modify_fees(s):\n",
    "    modified = s[1:]\n",
    "    return pd.to_numeric(modified,errors='coerce')\n",
    "    \n",
    "df_listings_details[['cleaning_fee','security_deposit']] = df_listings_details[['cleaning_fee','security_deposit']].astype('str')    \n",
    "df_listings_details['cleaning_fee_num'] = df_listings_details['cleaning_fee'].apply(modify_fees)\n",
    "df_listings_details['security_deposit_num'] = df_listings_details['security_deposit'].apply(modify_fees)\n",
    "df_listings_details['price'] = df_listings_details['price'].apply(modify_fees)\n",
    "df_listings_details['extra_people'] = df_listings_details['extra_people'].apply(modify_fees)"
   ]
  },
  {
   "cell_type": "code",
   "execution_count": 12,
   "id": "1ee5fbc2-5d2c-4a5e-bb69-0efd09b9f6d3",
   "metadata": {},
   "outputs": [
    {
     "data": {
      "text/plain": [
       "cleaning_fee_num        float64\n",
       "security_deposit_num    float64\n",
       "price                   float64\n",
       "extra_people            float64\n",
       "dtype: object"
      ]
     },
     "execution_count": 12,
     "metadata": {},
     "output_type": "execute_result"
    }
   ],
   "source": [
    "#checking type of converted columns\n",
    "df_listings_details[['cleaning_fee_num','security_deposit_num','price','extra_people']].dtypes"
   ]
  },
  {
   "cell_type": "code",
   "execution_count": 13,
   "id": "c992e931-9b01-4f01-be39-f7f98bf0471f",
   "metadata": {},
   "outputs": [
    {
     "data": {
      "text/plain": [
       "28"
      ]
     },
     "execution_count": 13,
     "metadata": {},
     "output_type": "execute_result"
    }
   ],
   "source": [
    "#Checking price columns for values coerced into NaN\n",
    "df_listings_details['price'].isnull().sum()"
   ]
  },
  {
   "cell_type": "code",
   "execution_count": 14,
   "id": "08015983-90a4-4388-baf3-8038c9e39472",
   "metadata": {},
   "outputs": [],
   "source": [
    "#Dropping NaN values\n",
    "df_listings_details.dropna(subset='price',inplace=True)"
   ]
  },
  {
   "cell_type": "code",
   "execution_count": 15,
   "id": "fac5c0af-7ec7-40b4-959f-772610a25078",
   "metadata": {},
   "outputs": [
    {
     "data": {
      "text/plain": [
       "0"
      ]
     },
     "execution_count": 15,
     "metadata": {},
     "output_type": "execute_result"
    }
   ],
   "source": [
    "#Checking extra_people columns for values coerced into NaN\n",
    "df_listings_details['extra_people'].isnull().sum()"
   ]
  },
  {
   "cell_type": "code",
   "execution_count": 16,
   "id": "fd2617d4-6d6d-4c97-9c01-2ff12cbe50bc",
   "metadata": {},
   "outputs": [],
   "source": [
    "#removing % from the response rate column in preparation for future conversion to integers\n",
    "def modify_response_rate(s):\n",
    "    modified = s[:-1]\n",
    "    return pd.to_numeric(modified,errors='coerce')\n",
    "df_listings_details['host_response_rate'] = df_listings_details['host_response_rate'].astype('str')\n",
    "df_listings_details['host_response_rate'] = df_listings_details['host_response_rate'].apply(modify_response_rate)"
   ]
  },
  {
   "cell_type": "code",
   "execution_count": 17,
   "id": "a195acd5-1b60-4005-ae2a-8861b2f3198d",
   "metadata": {},
   "outputs": [],
   "source": [
    "# Converting several columns into objects\n",
    "df_listings_details[['host_since','host_response_time','host_is_superhost','first_review','last_review']] = df_listings_details[['host_since','host_response_time','host_is_superhost','first_review','last_review']].astype('str')"
   ]
  },
  {
   "cell_type": "code",
   "execution_count": 18,
   "id": "68091db1-ac4a-4378-a39f-80e5c7c39fc2",
   "metadata": {},
   "outputs": [
    {
     "name": "stdout",
     "output_type": "stream",
     "text": [
      "weekly_price\n",
      "monthly_price\n"
     ]
    }
   ],
   "source": [
    "#Check columns with mixed data types after cleaning\n",
    "cols_mixed = []\n",
    "for col in df_listings_details.columns.tolist():\n",
    "  weird = (df_listings_details[[col]].map(type) != df_listings_details[[col]].iloc[0].apply(type)).any(axis = 1)\n",
    "  if len (df_listings_details[weird]) > 0:\n",
    "    cols_mixed.append(col)\n",
    "    print (col)"
   ]
  },
  {
   "cell_type": "markdown",
   "id": "ba1a090d-8d75-4d42-bbc9-ee8fc2dc1d9b",
   "metadata": {},
   "source": [
    "The two collumns above will be removed from the dataset due to a majority being missing values, so we do not need to clean them."
   ]
  },
  {
   "cell_type": "markdown",
   "id": "73b0cbaa-33d3-4002-b067-07e09d298a09",
   "metadata": {},
   "source": [
    "## 5. Data Cleaning"
   ]
  },
  {
   "cell_type": "code",
   "execution_count": 19,
   "id": "61351bdd-d026-4db6-94c1-2643fb6e98da",
   "metadata": {},
   "outputs": [],
   "source": [
    "'''\n",
    "Let's start by dropping the columns that have too many missing values to be of any use to our analysis, namely:\n",
    "square_feet                       19624\n",
    "weekly_price                      17187\n",
    "monthly_price                     18469\n",
    "'''\n",
    "df_listings_details.drop(['square_feet','weekly_price','monthly_price'],inplace=True,axis=1)"
   ]
  },
  {
   "cell_type": "code",
   "execution_count": 20,
   "id": "7da688a0-6f88-4fca-8d34-b59c15e714f9",
   "metadata": {},
   "outputs": [],
   "source": [
    "#dropping NaN entries of columns with under 10 NaN entries\n",
    "df_listings_details.dropna(subset=['host_listings_count', 'bathrooms','bedrooms','beds'], inplace=True)"
   ]
  },
  {
   "cell_type": "code",
   "execution_count": 21,
   "id": "0f56a16b-af87-4f30-80e6-d95d0779bb50",
   "metadata": {},
   "outputs": [],
   "source": [
    "#Dropping incorrectly formatted cleaning_fee and security_deposit columns\n",
    "df_listings_details.drop(['cleaning_fee','security_deposit'],inplace=True,axis=1)"
   ]
  },
  {
   "cell_type": "code",
   "execution_count": 22,
   "id": "92faddc0-101b-46fb-a333-131345553043",
   "metadata": {},
   "outputs": [
    {
     "data": {
      "text/plain": [
       "Index(['id', 'host_id', 'host_since', 'host_response_time',\n",
       "       'host_response_rate', 'host_is_superhost', 'host_listings_count',\n",
       "       'neighbourhood_cleansed', 'latitude', 'longitude', 'property_type',\n",
       "       'room_type', 'accommodates', 'bathrooms', 'bedrooms', 'beds',\n",
       "       'bed_type', 'amenities', 'price', 'guests_included', 'extra_people',\n",
       "       'minimum_nights', 'maximum_nights', 'has_availability',\n",
       "       'availability_30', 'availability_60', 'availability_90',\n",
       "       'availability_365', 'number_of_reviews', 'first_review', 'last_review',\n",
       "       'review_scores_rating', 'cancellation_policy',\n",
       "       'calculated_host_listings_count', 'reviews_per_month',\n",
       "       'cleaning_fee_num', 'security_deposit_num'],\n",
       "      dtype='object')"
      ]
     },
     "execution_count": 22,
     "metadata": {},
     "output_type": "execute_result"
    }
   ],
   "source": [
    "#Checking if the correct columns were dropped\n",
    "df_listings_details.columns"
   ]
  },
  {
   "cell_type": "code",
   "execution_count": 23,
   "id": "5cf87822-37e2-456a-9509-8bb073a92d27",
   "metadata": {},
   "outputs": [
    {
     "data": {
      "text/plain": [
       "id                                   0\n",
       "host_id                              0\n",
       "host_since                           0\n",
       "host_response_time                9452\n",
       "host_response_rate                   0\n",
       "host_is_superhost                    0\n",
       "host_listings_count                  0\n",
       "neighbourhood_cleansed               0\n",
       "latitude                             0\n",
       "longitude                            0\n",
       "property_type                        0\n",
       "room_type                            0\n",
       "accommodates                         0\n",
       "bathrooms                            0\n",
       "bedrooms                             0\n",
       "beds                                 0\n",
       "bed_type                             0\n",
       "amenities                            0\n",
       "price                                0\n",
       "guests_included                      0\n",
       "extra_people                         0\n",
       "minimum_nights                       0\n",
       "maximum_nights                       0\n",
       "has_availability                     0\n",
       "availability_30                      0\n",
       "availability_60                      0\n",
       "availability_90                      0\n",
       "availability_365                     0\n",
       "number_of_reviews                    0\n",
       "first_review                      2392\n",
       "last_review                       2392\n",
       "review_scores_rating                 0\n",
       "cancellation_policy                  0\n",
       "calculated_host_listings_count       0\n",
       "reviews_per_month                    0\n",
       "cleaning_fee_num                     0\n",
       "security_deposit_num                 0\n",
       "dtype: int64"
      ]
     },
     "execution_count": 23,
     "metadata": {},
     "output_type": "execute_result"
    }
   ],
   "source": [
    "#Checking for NaN values changed to nan during forced object typing change\n",
    "(df_listings_details == 'nan').sum()"
   ]
  },
  {
   "cell_type": "code",
   "execution_count": 24,
   "id": "7cb861c8-b80b-467c-859e-15f300cd27ee",
   "metadata": {},
   "outputs": [
    {
     "data": {
      "text/plain": [
       "True"
      ]
     },
     "execution_count": 24,
     "metadata": {},
     "output_type": "execute_result"
    }
   ],
   "source": [
    "#Checking if the nan entries are the same for both review columns\n",
    "len(df_listings_details[(df_listings_details['last_review'] == 'nan')&(df_listings_details['first_review'] == 'nan')]) == 2392"
   ]
  },
  {
   "cell_type": "markdown",
   "id": "9b2bfe9c-a9f2-4cba-87bd-56ea5cb97732",
   "metadata": {},
   "source": [
    "This confirms that both values are only null simultaneously. If we want to do further analysis involving these variables and how they affect other variables then we should branch off a dataset containing all the entries where the values are non-null. I will do this at a later point in the project, when the original dataset is cleaner."
   ]
  },
  {
   "cell_type": "code",
   "execution_count": 25,
   "id": "dbef7713-01e6-4f1f-b273-801df7e803dd",
   "metadata": {},
   "outputs": [],
   "source": [
    "# Making separate dataset with no nulls for the first and last review columns\n",
    "df_first_last_review_analysis = df_listings_details[df_listings_details['first_review'] != 'nan']"
   ]
  },
  {
   "cell_type": "code",
   "execution_count": 26,
   "id": "8cfc22d5-504b-4640-a82c-ae361e41734d",
   "metadata": {},
   "outputs": [],
   "source": [
    "#saving dataframe with only non null values in review columns for further analysis in excel\n",
    "df_first_last_review_analysis.to_csv(os.path.join(path,'02 Data','Prepared Data','first_last_review_analysis.csv'))"
   ]
  },
  {
   "cell_type": "code",
   "execution_count": 27,
   "id": "e884c548-05f9-479b-8815-c0b5134b29c8",
   "metadata": {},
   "outputs": [
    {
     "data": {
      "text/plain": [
       "host_response_time\n",
       "nan                   9452\n",
       "within an hour        5105\n",
       "within a few hours    2701\n",
       "within a day          2400\n",
       "a few days or more     316\n",
       "Name: count, dtype: int64"
      ]
     },
     "execution_count": 27,
     "metadata": {},
     "output_type": "execute_result"
    }
   ],
   "source": [
    "'''\n",
    "Now we check the two following columns with more missing values after the ones removed above\n",
    "host_response_time                 9452\n",
    "host_response_rate                 9452\n",
    "'''\n",
    "# frequency table for host_response_time\n",
    "df_listings_details['host_response_time'].value_counts(dropna = False)"
   ]
  },
  {
   "cell_type": "code",
   "execution_count": 28,
   "id": "1d9d5b70-d0b1-4512-b4ec-63147b41d111",
   "metadata": {},
   "outputs": [
    {
     "data": {
      "text/plain": [
       "host_response_rate\n",
       "NaN      9452\n",
       "100.0    7966\n",
       "90.0      329\n",
       "96.0      244\n",
       "80.0      207\n",
       "50.0      177\n",
       "0.0       161\n",
       "98.0      158\n",
       "67.0      134\n",
       "75.0       93\n",
       "95.0       85\n",
       "83.0       77\n",
       "60.0       73\n",
       "99.0       69\n",
       "70.0       69\n",
       "86.0       68\n",
       "92.0       51\n",
       "88.0       51\n",
       "33.0       48\n",
       "97.0       47\n",
       "89.0       41\n",
       "40.0       38\n",
       "71.0       36\n",
       "91.0       36\n",
       "94.0       32\n",
       "93.0       26\n",
       "78.0       25\n",
       "82.0       23\n",
       "77.0       17\n",
       "57.0       16\n",
       "25.0       15\n",
       "73.0       12\n",
       "20.0        9\n",
       "87.0        8\n",
       "43.0        8\n",
       "56.0        7\n",
       "62.0        6\n",
       "63.0        6\n",
       "10.0        6\n",
       "30.0        6\n",
       "74.0        5\n",
       "44.0        5\n",
       "38.0        4\n",
       "46.0        4\n",
       "29.0        4\n",
       "53.0        3\n",
       "69.0        2\n",
       "65.0        2\n",
       "45.0        2\n",
       "76.0        2\n",
       "17.0        1\n",
       "27.0        1\n",
       "58.0        1\n",
       "32.0        1\n",
       "47.0        1\n",
       "55.0        1\n",
       "85.0        1\n",
       "79.0        1\n",
       "66.0        1\n",
       "Name: count, dtype: int64"
      ]
     },
     "execution_count": 28,
     "metadata": {},
     "output_type": "execute_result"
    }
   ],
   "source": [
    "# frequency table for host_response_rate\n",
    "df_listings_details['host_response_rate'].value_counts(dropna = False)"
   ]
  },
  {
   "cell_type": "code",
   "execution_count": 29,
   "id": "e45c32af-7b44-4a56-9e99-6afdd199d896",
   "metadata": {},
   "outputs": [
    {
     "data": {
      "text/plain": [
       "True"
      ]
     },
     "execution_count": 29,
     "metadata": {},
     "output_type": "execute_result"
    }
   ],
   "source": [
    "# Checking if the length of the dataframe containing only the simultaneous nulls in both respose columns matches the number of NaN entries\n",
    "value_counts_response_rate = df_listings_details['host_response_rate'].value_counts(dropna = False)\n",
    "value_counts_response_rate.iloc[0] == len(df_listings_details[(df_listings_details['host_response_rate'].isnull()) &(df_listings_details['host_response_time'] == 'nan')])"
   ]
  },
  {
   "cell_type": "markdown",
   "id": "0ecdf16e-c6d8-4b23-9049-79da64b6158b",
   "metadata": {},
   "source": [
    "This confirms that both values are only null simultaneously. If we want to do further analysis involving response rates and time and how they affect other variables then we should branch off a dataset containing all the entries where the values are non-null. I will do this at a later point in the project, when the original dataset is cleaner. For now, we are not applying methods that require our columns to be free of NaN values, so we will retain them."
   ]
  },
  {
   "cell_type": "code",
   "execution_count": 30,
   "id": "cf0bffb5-6818-43fc-bcc8-f2cb45a71028",
   "metadata": {},
   "outputs": [],
   "source": [
    "#Creating separate dataframes with only the records where security_fee has no missing values\n",
    "df_security_deposit_analysis = df_listings_details[df_listings_details['security_deposit_num'].notnull()]\n",
    "df_cleaning_fee_analysis = df_listings_details[df_listings_details['cleaning_fee_num'].notnull()]"
   ]
  },
  {
   "cell_type": "code",
   "execution_count": 31,
   "id": "88325694-0fe8-4463-9c9c-1faa21b2b783",
   "metadata": {},
   "outputs": [
    {
     "data": {
      "text/plain": [
       "0"
      ]
     },
     "execution_count": 31,
     "metadata": {},
     "output_type": "execute_result"
    }
   ],
   "source": [
    "#Verifying that the security deposit dataframe does not contain null values for that security deposit column\n",
    "df_security_deposit_analysis['security_deposit_num'].isnull().sum()"
   ]
  },
  {
   "cell_type": "code",
   "execution_count": 32,
   "id": "a9e77171-44b5-4854-a0a2-7f224db143f0",
   "metadata": {},
   "outputs": [],
   "source": [
    "#saving dataframe with only non null values for further analysis in excel\n",
    "df_security_deposit_analysis.to_csv(os.path.join(path,'02 Data','Prepared Data','security_deposit_analysis.csv'))"
   ]
  },
  {
   "cell_type": "code",
   "execution_count": 33,
   "id": "2f94434e-3650-4365-9ca3-aa2282e9dcaa",
   "metadata": {},
   "outputs": [
    {
     "data": {
      "text/plain": [
       "0"
      ]
     },
     "execution_count": 33,
     "metadata": {},
     "output_type": "execute_result"
    }
   ],
   "source": [
    "#Verifying that the cleaning fee dataframe does not contain null values for that column\n",
    "df_cleaning_fee_analysis['cleaning_fee_num'].isnull().sum()"
   ]
  },
  {
   "cell_type": "code",
   "execution_count": 34,
   "id": "103b8606-ff7a-46ba-9929-23c17eb02a12",
   "metadata": {},
   "outputs": [],
   "source": [
    "#saving dataframe with only non null values for further analysis in excel\n",
    "df_cleaning_fee_analysis.to_csv(os.path.join(path,'02 Data','Prepared Data','cleaning_fee_analysis.csv'))"
   ]
  },
  {
   "cell_type": "code",
   "execution_count": 35,
   "id": "41737c36-4072-419b-8a21-8f1e4debb0aa",
   "metadata": {},
   "outputs": [],
   "source": [
    "#Creating separate dataframe with only the records where the host response columns have no missing values\n",
    "df_host_response_analysis = df_listings_details[df_listings_details['host_response_time'] != \"nan\"]"
   ]
  },
  {
   "cell_type": "code",
   "execution_count": 36,
   "id": "87b3fb00-4c6b-4463-bfee-2b34b1f9bd31",
   "metadata": {},
   "outputs": [
    {
     "data": {
      "text/plain": [
       "host_response_time\n",
       "within an hour        5105\n",
       "within a few hours    2701\n",
       "within a day          2400\n",
       "a few days or more     316\n",
       "Name: count, dtype: int64"
      ]
     },
     "execution_count": 36,
     "metadata": {},
     "output_type": "execute_result"
    }
   ],
   "source": [
    "#Checking for null values in the host response time column\n",
    "df_host_response_analysis['host_response_time'].value_counts(dropna=False)"
   ]
  },
  {
   "cell_type": "code",
   "execution_count": 37,
   "id": "5335bf29-92ee-4f79-8a63-d119c72ebf48",
   "metadata": {},
   "outputs": [],
   "source": [
    "#saving dataframe with only non null values for further analysis in excel\n",
    "df_host_response_analysis.to_csv(os.path.join(path,'02 Data','Prepared Data','host_response_analysis.csv'))"
   ]
  },
  {
   "cell_type": "code",
   "execution_count": 38,
   "id": "aa217db6-b490-4323-af4a-40f0e1590e8b",
   "metadata": {},
   "outputs": [],
   "source": [
    "#Creating separate dataframe with only the records where the review scores response columns have no missing values\n",
    "df_review_scores_analysis = df_listings_details[df_listings_details['review_scores_rating'].notnull()]"
   ]
  },
  {
   "cell_type": "code",
   "execution_count": 39,
   "id": "d4e51091-e505-42f1-b6d4-61f2a2869ec6",
   "metadata": {},
   "outputs": [
    {
     "data": {
      "text/plain": [
       "review_scores_rating    0\n",
       "reviews_per_month       0\n",
       "dtype: int64"
      ]
     },
     "execution_count": 39,
     "metadata": {},
     "output_type": "execute_result"
    }
   ],
   "source": [
    "#Checking if there are any null values in the new dataframe\n",
    "df_review_scores_analysis[['review_scores_rating','reviews_per_month']].isnull().sum()"
   ]
  },
  {
   "cell_type": "code",
   "execution_count": 40,
   "id": "ddda854d-2100-4609-b4ee-34d70027f4ec",
   "metadata": {},
   "outputs": [],
   "source": [
    "#saving dataframe with only non null values for further analysis in excel\n",
    "df_review_scores_analysis.to_csv(os.path.join(path,'02 Data','Prepared Data','df_review_scores_analysis.csv'))"
   ]
  },
  {
   "cell_type": "markdown",
   "id": "1f5dff00-a7a3-4fb6-88a5-20d6e273e61e",
   "metadata": {},
   "source": [
    "Now that we've created separate files for the columns with a great amount of missing values, we can proceed to remove those collumns from the large dataset, while keeping the specific values to utilize for any future analyses. Let's first look at the descriptive statistics before removing them, though."
   ]
  },
  {
   "cell_type": "markdown",
   "id": "257e7b6c-ebd9-4e90-abb7-52a8d1f99af3",
   "metadata": {},
   "source": [
    "## 6. Descriptive Statistics"
   ]
  },
  {
   "cell_type": "markdown",
   "id": "e0d0699c-31a0-4589-9d93-f1cc5281a4fb",
   "metadata": {},
   "source": [
    "### 6.1 Descriptive analysis pre-dropping all collums with NaN"
   ]
  },
  {
   "cell_type": "code",
   "execution_count": 41,
   "id": "18acc5ab-136d-4ec2-8e48-418f61b2a2c8",
   "metadata": {},
   "outputs": [
    {
     "data": {
      "text/plain": [
       "(19974, 37)"
      ]
     },
     "execution_count": 41,
     "metadata": {},
     "output_type": "execute_result"
    }
   ],
   "source": [
    "# dataframe shape\n",
    "df_listings_details.shape"
   ]
  },
  {
   "cell_type": "code",
   "execution_count": 42,
   "id": "96e31897-4e42-471d-9fa3-1f7e843fbed6",
   "metadata": {},
   "outputs": [
    {
     "data": {
      "text/plain": [
       "id                                  int64\n",
       "host_id                             int64\n",
       "host_since                         object\n",
       "host_response_time                 object\n",
       "host_response_rate                float64\n",
       "host_is_superhost                  object\n",
       "host_listings_count               float64\n",
       "neighbourhood_cleansed             object\n",
       "latitude                          float64\n",
       "longitude                         float64\n",
       "property_type                      object\n",
       "room_type                          object\n",
       "accommodates                        int64\n",
       "bathrooms                         float64\n",
       "bedrooms                          float64\n",
       "beds                              float64\n",
       "bed_type                           object\n",
       "amenities                          object\n",
       "price                             float64\n",
       "guests_included                     int64\n",
       "extra_people                      float64\n",
       "minimum_nights                      int64\n",
       "maximum_nights                      int64\n",
       "has_availability                   object\n",
       "availability_30                     int64\n",
       "availability_60                     int64\n",
       "availability_90                     int64\n",
       "availability_365                    int64\n",
       "number_of_reviews                   int64\n",
       "first_review                       object\n",
       "last_review                        object\n",
       "review_scores_rating              float64\n",
       "cancellation_policy                object\n",
       "calculated_host_listings_count      int64\n",
       "reviews_per_month                 float64\n",
       "cleaning_fee_num                  float64\n",
       "security_deposit_num              float64\n",
       "dtype: object"
      ]
     },
     "execution_count": 42,
     "metadata": {},
     "output_type": "execute_result"
    }
   ],
   "source": [
    "# dataframe shape\n",
    "df_listings_details.dtypes"
   ]
  },
  {
   "cell_type": "code",
   "execution_count": 43,
   "id": "e73a8bb0-1c31-4576-b841-f3aa1634df96",
   "metadata": {},
   "outputs": [
    {
     "data": {
      "text/html": [
       "<div>\n",
       "<style scoped>\n",
       "    .dataframe tbody tr th:only-of-type {\n",
       "        vertical-align: middle;\n",
       "    }\n",
       "\n",
       "    .dataframe tbody tr th {\n",
       "        vertical-align: top;\n",
       "    }\n",
       "\n",
       "    .dataframe thead th {\n",
       "        text-align: right;\n",
       "    }\n",
       "</style>\n",
       "<table border=\"1\" class=\"dataframe\">\n",
       "  <thead>\n",
       "    <tr style=\"text-align: right;\">\n",
       "      <th></th>\n",
       "      <th>id</th>\n",
       "      <th>host_id</th>\n",
       "      <th>host_response_rate</th>\n",
       "      <th>host_listings_count</th>\n",
       "      <th>latitude</th>\n",
       "      <th>longitude</th>\n",
       "      <th>accommodates</th>\n",
       "      <th>bathrooms</th>\n",
       "      <th>bedrooms</th>\n",
       "      <th>beds</th>\n",
       "      <th>...</th>\n",
       "      <th>availability_30</th>\n",
       "      <th>availability_60</th>\n",
       "      <th>availability_90</th>\n",
       "      <th>availability_365</th>\n",
       "      <th>number_of_reviews</th>\n",
       "      <th>review_scores_rating</th>\n",
       "      <th>calculated_host_listings_count</th>\n",
       "      <th>reviews_per_month</th>\n",
       "      <th>cleaning_fee_num</th>\n",
       "      <th>security_deposit_num</th>\n",
       "    </tr>\n",
       "  </thead>\n",
       "  <tbody>\n",
       "    <tr>\n",
       "      <th>count</th>\n",
       "      <td>1.997400e+04</td>\n",
       "      <td>1.997400e+04</td>\n",
       "      <td>10522.000000</td>\n",
       "      <td>19974.000000</td>\n",
       "      <td>19974.000000</td>\n",
       "      <td>19974.000000</td>\n",
       "      <td>19974.000000</td>\n",
       "      <td>19974.000000</td>\n",
       "      <td>19974.000000</td>\n",
       "      <td>19974.000000</td>\n",
       "      <td>...</td>\n",
       "      <td>19974.000000</td>\n",
       "      <td>19974.000000</td>\n",
       "      <td>19974.000000</td>\n",
       "      <td>19974.000000</td>\n",
       "      <td>19974.000000</td>\n",
       "      <td>17351.000000</td>\n",
       "      <td>19974.000000</td>\n",
       "      <td>17582.000000</td>\n",
       "      <td>16367.000000</td>\n",
       "      <td>13429.000000</td>\n",
       "    </tr>\n",
       "    <tr>\n",
       "      <th>mean</th>\n",
       "      <td>1.542587e+07</td>\n",
       "      <td>4.868341e+07</td>\n",
       "      <td>93.772382</td>\n",
       "      <td>6.104936</td>\n",
       "      <td>52.365213</td>\n",
       "      <td>4.888973</td>\n",
       "      <td>2.889056</td>\n",
       "      <td>1.136903</td>\n",
       "      <td>1.443927</td>\n",
       "      <td>1.847352</td>\n",
       "      <td>...</td>\n",
       "      <td>4.886803</td>\n",
       "      <td>11.363823</td>\n",
       "      <td>18.095074</td>\n",
       "      <td>59.631821</td>\n",
       "      <td>21.551667</td>\n",
       "      <td>94.849231</td>\n",
       "      <td>4.740413</td>\n",
       "      <td>1.062466</td>\n",
       "      <td>39.232847</td>\n",
       "      <td>179.394966</td>\n",
       "    </tr>\n",
       "    <tr>\n",
       "      <th>std</th>\n",
       "      <td>8.563959e+06</td>\n",
       "      <td>5.648726e+07</td>\n",
       "      <td>17.008527</td>\n",
       "      <td>30.369254</td>\n",
       "      <td>0.016002</td>\n",
       "      <td>0.035574</td>\n",
       "      <td>1.308709</td>\n",
       "      <td>0.793375</td>\n",
       "      <td>0.883226</td>\n",
       "      <td>1.384799</td>\n",
       "      <td>...</td>\n",
       "      <td>7.918523</td>\n",
       "      <td>17.449275</td>\n",
       "      <td>27.633483</td>\n",
       "      <td>103.724839</td>\n",
       "      <td>43.205813</td>\n",
       "      <td>6.650413</td>\n",
       "      <td>22.946555</td>\n",
       "      <td>1.333635</td>\n",
       "      <td>24.090756</td>\n",
       "      <td>164.498943</td>\n",
       "    </tr>\n",
       "    <tr>\n",
       "      <th>min</th>\n",
       "      <td>2.818000e+03</td>\n",
       "      <td>3.159000e+03</td>\n",
       "      <td>0.000000</td>\n",
       "      <td>0.000000</td>\n",
       "      <td>52.288378</td>\n",
       "      <td>4.753247</td>\n",
       "      <td>1.000000</td>\n",
       "      <td>0.000000</td>\n",
       "      <td>0.000000</td>\n",
       "      <td>0.000000</td>\n",
       "      <td>...</td>\n",
       "      <td>0.000000</td>\n",
       "      <td>0.000000</td>\n",
       "      <td>0.000000</td>\n",
       "      <td>0.000000</td>\n",
       "      <td>0.000000</td>\n",
       "      <td>20.000000</td>\n",
       "      <td>1.000000</td>\n",
       "      <td>0.010000</td>\n",
       "      <td>0.000000</td>\n",
       "      <td>0.000000</td>\n",
       "    </tr>\n",
       "    <tr>\n",
       "      <th>25%</th>\n",
       "      <td>8.201012e+06</td>\n",
       "      <td>8.108401e+06</td>\n",
       "      <td>100.000000</td>\n",
       "      <td>1.000000</td>\n",
       "      <td>52.355128</td>\n",
       "      <td>4.863583</td>\n",
       "      <td>2.000000</td>\n",
       "      <td>1.000000</td>\n",
       "      <td>1.000000</td>\n",
       "      <td>1.000000</td>\n",
       "      <td>...</td>\n",
       "      <td>0.000000</td>\n",
       "      <td>0.000000</td>\n",
       "      <td>0.000000</td>\n",
       "      <td>0.000000</td>\n",
       "      <td>3.000000</td>\n",
       "      <td>93.000000</td>\n",
       "      <td>1.000000</td>\n",
       "      <td>0.270000</td>\n",
       "      <td>25.000000</td>\n",
       "      <td>0.000000</td>\n",
       "    </tr>\n",
       "    <tr>\n",
       "      <th>50%</th>\n",
       "      <td>1.563899e+07</td>\n",
       "      <td>2.369649e+07</td>\n",
       "      <td>100.000000</td>\n",
       "      <td>1.000000</td>\n",
       "      <td>52.364590</td>\n",
       "      <td>4.886372</td>\n",
       "      <td>2.000000</td>\n",
       "      <td>1.000000</td>\n",
       "      <td>1.000000</td>\n",
       "      <td>1.000000</td>\n",
       "      <td>...</td>\n",
       "      <td>0.000000</td>\n",
       "      <td>0.000000</td>\n",
       "      <td>0.000000</td>\n",
       "      <td>3.000000</td>\n",
       "      <td>8.000000</td>\n",
       "      <td>97.000000</td>\n",
       "      <td>1.000000</td>\n",
       "      <td>0.620000</td>\n",
       "      <td>35.000000</td>\n",
       "      <td>150.000000</td>\n",
       "    </tr>\n",
       "    <tr>\n",
       "      <th>75%</th>\n",
       "      <td>2.202895e+07</td>\n",
       "      <td>6.825683e+07</td>\n",
       "      <td>100.000000</td>\n",
       "      <td>1.000000</td>\n",
       "      <td>52.375076</td>\n",
       "      <td>4.908305</td>\n",
       "      <td>4.000000</td>\n",
       "      <td>1.000000</td>\n",
       "      <td>2.000000</td>\n",
       "      <td>2.000000</td>\n",
       "      <td>...</td>\n",
       "      <td>7.000000</td>\n",
       "      <td>18.000000</td>\n",
       "      <td>28.000000</td>\n",
       "      <td>67.000000</td>\n",
       "      <td>22.000000</td>\n",
       "      <td>100.000000</td>\n",
       "      <td>1.000000</td>\n",
       "      <td>1.230000</td>\n",
       "      <td>50.000000</td>\n",
       "      <td>250.000000</td>\n",
       "    </tr>\n",
       "    <tr>\n",
       "      <th>max</th>\n",
       "      <td>3.058041e+07</td>\n",
       "      <td>2.293612e+08</td>\n",
       "      <td>100.000000</td>\n",
       "      <td>698.000000</td>\n",
       "      <td>52.424713</td>\n",
       "      <td>5.027689</td>\n",
       "      <td>17.000000</td>\n",
       "      <td>100.500000</td>\n",
       "      <td>12.000000</td>\n",
       "      <td>32.000000</td>\n",
       "      <td>...</td>\n",
       "      <td>30.000000</td>\n",
       "      <td>60.000000</td>\n",
       "      <td>90.000000</td>\n",
       "      <td>365.000000</td>\n",
       "      <td>695.000000</td>\n",
       "      <td>100.000000</td>\n",
       "      <td>208.000000</td>\n",
       "      <td>11.850000</td>\n",
       "      <td>531.000000</td>\n",
       "      <td>999.000000</td>\n",
       "    </tr>\n",
       "  </tbody>\n",
       "</table>\n",
       "<p>8 rows × 25 columns</p>\n",
       "</div>"
      ],
      "text/plain": [
       "                 id       host_id  host_response_rate  host_listings_count  \\\n",
       "count  1.997400e+04  1.997400e+04        10522.000000         19974.000000   \n",
       "mean   1.542587e+07  4.868341e+07           93.772382             6.104936   \n",
       "std    8.563959e+06  5.648726e+07           17.008527            30.369254   \n",
       "min    2.818000e+03  3.159000e+03            0.000000             0.000000   \n",
       "25%    8.201012e+06  8.108401e+06          100.000000             1.000000   \n",
       "50%    1.563899e+07  2.369649e+07          100.000000             1.000000   \n",
       "75%    2.202895e+07  6.825683e+07          100.000000             1.000000   \n",
       "max    3.058041e+07  2.293612e+08          100.000000           698.000000   \n",
       "\n",
       "           latitude     longitude  accommodates     bathrooms      bedrooms  \\\n",
       "count  19974.000000  19974.000000  19974.000000  19974.000000  19974.000000   \n",
       "mean      52.365213      4.888973      2.889056      1.136903      1.443927   \n",
       "std        0.016002      0.035574      1.308709      0.793375      0.883226   \n",
       "min       52.288378      4.753247      1.000000      0.000000      0.000000   \n",
       "25%       52.355128      4.863583      2.000000      1.000000      1.000000   \n",
       "50%       52.364590      4.886372      2.000000      1.000000      1.000000   \n",
       "75%       52.375076      4.908305      4.000000      1.000000      2.000000   \n",
       "max       52.424713      5.027689     17.000000    100.500000     12.000000   \n",
       "\n",
       "               beds  ...  availability_30  availability_60  availability_90  \\\n",
       "count  19974.000000  ...     19974.000000     19974.000000     19974.000000   \n",
       "mean       1.847352  ...         4.886803        11.363823        18.095074   \n",
       "std        1.384799  ...         7.918523        17.449275        27.633483   \n",
       "min        0.000000  ...         0.000000         0.000000         0.000000   \n",
       "25%        1.000000  ...         0.000000         0.000000         0.000000   \n",
       "50%        1.000000  ...         0.000000         0.000000         0.000000   \n",
       "75%        2.000000  ...         7.000000        18.000000        28.000000   \n",
       "max       32.000000  ...        30.000000        60.000000        90.000000   \n",
       "\n",
       "       availability_365  number_of_reviews  review_scores_rating  \\\n",
       "count      19974.000000       19974.000000          17351.000000   \n",
       "mean          59.631821          21.551667             94.849231   \n",
       "std          103.724839          43.205813              6.650413   \n",
       "min            0.000000           0.000000             20.000000   \n",
       "25%            0.000000           3.000000             93.000000   \n",
       "50%            3.000000           8.000000             97.000000   \n",
       "75%           67.000000          22.000000            100.000000   \n",
       "max          365.000000         695.000000            100.000000   \n",
       "\n",
       "       calculated_host_listings_count  reviews_per_month  cleaning_fee_num  \\\n",
       "count                    19974.000000       17582.000000      16367.000000   \n",
       "mean                         4.740413           1.062466         39.232847   \n",
       "std                         22.946555           1.333635         24.090756   \n",
       "min                          1.000000           0.010000          0.000000   \n",
       "25%                          1.000000           0.270000         25.000000   \n",
       "50%                          1.000000           0.620000         35.000000   \n",
       "75%                          1.000000           1.230000         50.000000   \n",
       "max                        208.000000          11.850000        531.000000   \n",
       "\n",
       "       security_deposit_num  \n",
       "count          13429.000000  \n",
       "mean             179.394966  \n",
       "std              164.498943  \n",
       "min                0.000000  \n",
       "25%                0.000000  \n",
       "50%              150.000000  \n",
       "75%              250.000000  \n",
       "max              999.000000  \n",
       "\n",
       "[8 rows x 25 columns]"
      ]
     },
     "execution_count": 43,
     "metadata": {},
     "output_type": "execute_result"
    }
   ],
   "source": [
    "# Descriptive statistics for numerical columns\n",
    "df_listings_details.describe()"
   ]
  },
  {
   "cell_type": "code",
   "execution_count": 44,
   "id": "06d388c1-2321-4313-ba05-5596ec41f6ec",
   "metadata": {},
   "outputs": [
    {
     "data": {
      "text/plain": [
       "{'id': 2818,\n",
       " 'host_id': 65859990.0,\n",
       " 'host_since': '2016-04-05',\n",
       " 'host_response_time': 'nan',\n",
       " 'host_response_rate': 100.0,\n",
       " 'host_is_superhost': 'f',\n",
       " 'host_listings_count': 1.0,\n",
       " 'neighbourhood_cleansed': 'De Baarsjes - Oud-West',\n",
       " 'latitude': 52.28837823819868,\n",
       " 'longitude': 4.7532465673162365,\n",
       " 'property_type': 'Apartment',\n",
       " 'room_type': 'Entire home/apt',\n",
       " 'accommodates': 2.0,\n",
       " 'bathrooms': 1.0,\n",
       " 'bedrooms': 1.0,\n",
       " 'beds': 1.0,\n",
       " 'bed_type': 'Real Bed',\n",
       " 'amenities': '{\"translation missing: en.hosting_amenity_49\",\"translation missing: en.hosting_amenity_50\"}',\n",
       " 'price': 150.0,\n",
       " 'guests_included': 1.0,\n",
       " 'extra_people': 0.0,\n",
       " 'minimum_nights': 2.0,\n",
       " 'maximum_nights': 1125.0,\n",
       " 'has_availability': 't',\n",
       " 'availability_30': 0.0,\n",
       " 'availability_60': 0.0,\n",
       " 'availability_90': 0.0,\n",
       " 'availability_365': 0.0,\n",
       " 'number_of_reviews': 0.0,\n",
       " 'first_review': 'nan',\n",
       " 'last_review': 'nan',\n",
       " 'review_scores_rating': 100.0,\n",
       " 'cancellation_policy': 'strict_14_with_grace_period',\n",
       " 'calculated_host_listings_count': 1.0,\n",
       " 'reviews_per_month': 0.03,\n",
       " 'cleaning_fee_num': 50.0,\n",
       " 'security_deposit_num': 0.0}"
      ]
     },
     "execution_count": 44,
     "metadata": {},
     "output_type": "execute_result"
    }
   ],
   "source": [
    "'''\n",
    "mode for all columns passed onto a dictionary\n",
    "since most are single modes and the multi-modes are not relevant outside of the reviews per month\n",
    "we can take the first mode only onto the dict\n",
    "'''\n",
    "df_mode = df_listings_details.mode()\n",
    "mode_dict = {}\n",
    "for col in df_mode.columns:\n",
    "    mode_value = df_mode[col].iloc[0]\n",
    "    mode_dict[col] = mode_value\n",
    "mode_dict"
   ]
  },
  {
   "cell_type": "code",
   "execution_count": 45,
   "id": "66cbd9a6-8752-4b02-9653-00d532a5a60a",
   "metadata": {},
   "outputs": [],
   "source": [
    "#Dropping columns with the missing values from the dataset\n",
    "df_listings_details.drop(['host_response_time','host_response_rate','cleaning_fee_num','security_deposit_num','review_scores_rating','reviews_per_month','first_review','last_review'],inplace = True, axis = 1)"
   ]
  },
  {
   "cell_type": "code",
   "execution_count": 46,
   "id": "5343b7dd-a4a6-46f9-9a7e-a72efd6ce2d0",
   "metadata": {},
   "outputs": [
    {
     "data": {
      "text/plain": [
       "id                                0\n",
       "host_id                           0\n",
       "host_since                        0\n",
       "host_is_superhost                 0\n",
       "host_listings_count               0\n",
       "neighbourhood_cleansed            0\n",
       "latitude                          0\n",
       "longitude                         0\n",
       "property_type                     0\n",
       "room_type                         0\n",
       "accommodates                      0\n",
       "bathrooms                         0\n",
       "bedrooms                          0\n",
       "beds                              0\n",
       "bed_type                          0\n",
       "amenities                         0\n",
       "price                             0\n",
       "guests_included                   0\n",
       "extra_people                      0\n",
       "minimum_nights                    0\n",
       "maximum_nights                    0\n",
       "has_availability                  0\n",
       "availability_30                   0\n",
       "availability_60                   0\n",
       "availability_90                   0\n",
       "availability_365                  0\n",
       "number_of_reviews                 0\n",
       "cancellation_policy               0\n",
       "calculated_host_listings_count    0\n",
       "dtype: int64"
      ]
     },
     "execution_count": 46,
     "metadata": {},
     "output_type": "execute_result"
    }
   ],
   "source": [
    "# Checking for correctly dropped columns and remaining null values\n",
    "df_listings_details.isnull().sum()"
   ]
  },
  {
   "cell_type": "code",
   "execution_count": 47,
   "id": "c6b39e3e-023d-4758-b972-338658af1557",
   "metadata": {},
   "outputs": [
    {
     "data": {
      "text/plain": [
       "id                                0\n",
       "host_id                           0\n",
       "host_since                        0\n",
       "host_is_superhost                 0\n",
       "host_listings_count               0\n",
       "neighbourhood_cleansed            0\n",
       "latitude                          0\n",
       "longitude                         0\n",
       "property_type                     0\n",
       "room_type                         0\n",
       "accommodates                      0\n",
       "bathrooms                         0\n",
       "bedrooms                          0\n",
       "beds                              0\n",
       "bed_type                          0\n",
       "amenities                         0\n",
       "price                             0\n",
       "guests_included                   0\n",
       "extra_people                      0\n",
       "minimum_nights                    0\n",
       "maximum_nights                    0\n",
       "has_availability                  0\n",
       "availability_30                   0\n",
       "availability_60                   0\n",
       "availability_90                   0\n",
       "availability_365                  0\n",
       "number_of_reviews                 0\n",
       "cancellation_policy               0\n",
       "calculated_host_listings_count    0\n",
       "dtype: int64"
      ]
     },
     "execution_count": 47,
     "metadata": {},
     "output_type": "execute_result"
    }
   ],
   "source": [
    "(df_listings_details == 'nan').sum()"
   ]
  },
  {
   "cell_type": "markdown",
   "id": "fe283646-98f2-4c00-816e-8d9575418aea",
   "metadata": {},
   "source": [
    "### 6.2 Descriptive analysis after dropping all collums with NaN"
   ]
  },
  {
   "cell_type": "code",
   "execution_count": 48,
   "id": "cdbfc9d4-1fc2-47ed-91d6-6d508077ccdd",
   "metadata": {},
   "outputs": [
    {
     "data": {
      "text/plain": [
       "(19974, 29)"
      ]
     },
     "execution_count": 48,
     "metadata": {},
     "output_type": "execute_result"
    }
   ],
   "source": [
    "#Final dataframe shape\n",
    "df_listings_details.shape"
   ]
  },
  {
   "cell_type": "code",
   "execution_count": 73,
   "id": "13175872-11de-4044-9735-f54278fee244",
   "metadata": {},
   "outputs": [
    {
     "name": "stdout",
     "output_type": "stream",
     "text": [
      "                 id       host_id  host_listings_count      latitude  \\\n",
      "count  1.997400e+04  1.997400e+04         19974.000000  19974.000000   \n",
      "mean   1.542587e+07  4.868341e+07             6.104936     52.365213   \n",
      "std    8.563959e+06  5.648726e+07            30.369254      0.016002   \n",
      "min    2.818000e+03  3.159000e+03             0.000000     52.288378   \n",
      "25%    8.201012e+06  8.108401e+06             1.000000     52.355128   \n",
      "50%    1.563899e+07  2.369649e+07             1.000000     52.364590   \n",
      "75%    2.202895e+07  6.825683e+07             1.000000     52.375076   \n",
      "max    3.058041e+07  2.293612e+08           698.000000     52.424713   \n",
      "\n",
      "          longitude  accommodates     bathrooms      bedrooms          beds  \\\n",
      "count  19974.000000  19974.000000  19974.000000  19974.000000  19974.000000   \n",
      "mean       4.888973      2.889056      1.136903      1.443927      1.847352   \n",
      "std        0.035574      1.308709      0.793375      0.883226      1.384799   \n",
      "min        4.753247      1.000000      0.000000      0.000000      0.000000   \n",
      "25%        4.863583      2.000000      1.000000      1.000000      1.000000   \n",
      "50%        4.886372      2.000000      1.000000      1.000000      1.000000   \n",
      "75%        4.908305      4.000000      1.000000      2.000000      2.000000   \n",
      "max        5.027689     17.000000    100.500000     12.000000     32.000000   \n",
      "\n",
      "              price  guests_included  extra_people  minimum_nights  \\\n",
      "count  19974.000000     19974.000000  19974.000000    19974.000000   \n",
      "mean     148.934915         1.468509     11.325323        3.304546   \n",
      "std       89.668259         0.932072     22.159016       12.284366   \n",
      "min        0.000000         1.000000      0.000000        1.000000   \n",
      "25%       96.000000         1.000000      0.000000        2.000000   \n",
      "50%      125.000000         1.000000      0.000000        2.000000   \n",
      "75%      175.000000         2.000000     20.000000        3.000000   \n",
      "max      999.000000        16.000000    280.000000     1001.000000   \n",
      "\n",
      "       maximum_nights  availability_30  availability_60  availability_90  \\\n",
      "count    19974.000000     19974.000000     19974.000000     19974.000000   \n",
      "mean       631.636177         4.886803        11.363823        18.095074   \n",
      "std        541.249600         7.918523        17.449275        27.633483   \n",
      "min          1.000000         0.000000         0.000000         0.000000   \n",
      "25%         21.000000         0.000000         0.000000         0.000000   \n",
      "50%       1125.000000         0.000000         0.000000         0.000000   \n",
      "75%       1125.000000         7.000000        18.000000        28.000000   \n",
      "max       9999.000000        30.000000        60.000000        90.000000   \n",
      "\n",
      "       availability_365  number_of_reviews  calculated_host_listings_count  \n",
      "count      19974.000000       19974.000000                    19974.000000  \n",
      "mean          59.631821          21.551667                        4.740413  \n",
      "std          103.724839          43.205813                       22.946555  \n",
      "min            0.000000           0.000000                        1.000000  \n",
      "25%            0.000000           3.000000                        1.000000  \n",
      "50%            3.000000           8.000000                        1.000000  \n",
      "75%           67.000000          22.000000                        1.000000  \n",
      "max          365.000000         695.000000                      208.000000  \n"
     ]
    }
   ],
   "source": [
    "#Descriptive statistics post dropping columns\n",
    "desc_anal = df_listings_details.describe()\n",
    "print(desc_anal)\n",
    "desc_anal.to_clipboard()"
   ]
  },
  {
   "cell_type": "code",
   "execution_count": 75,
   "id": "7ce525e3-bd42-41a4-962f-72a9ceec9d1b",
   "metadata": {},
   "outputs": [],
   "source": [
    "'''\n",
    "mode for all columns passed onto a dictionary\n",
    "since most are single modes and the multi-modes are not relevant outside of the reviews per month\n",
    "we can take the first mode only onto the dict\n",
    "'''\n",
    "df_mode = df_listings_details.mode()\n",
    "mode_dict = {}\n",
    "for col in df_mode.columns:\n",
    "    mode_value = df_mode[col].iloc[0]\n",
    "    mode_dict[col] = mode_value\n",
    "mode_dict\n",
    "df_mode.to_clipboard()"
   ]
  },
  {
   "cell_type": "markdown",
   "id": "a5606502-4c1c-4a00-bef3-b3fe0974bcdc",
   "metadata": {},
   "source": [
    "### 6.3 Descriptive analysis for the qualitative columns without missing values"
   ]
  },
  {
   "cell_type": "code",
   "execution_count": 58,
   "id": "e40ef331-688e-4bb7-ad83-88ebd3829a31",
   "metadata": {},
   "outputs": [
    {
     "data": {
      "text/html": [
       "<div>\n",
       "<style scoped>\n",
       "    .dataframe tbody tr th:only-of-type {\n",
       "        vertical-align: middle;\n",
       "    }\n",
       "\n",
       "    .dataframe tbody tr th {\n",
       "        vertical-align: top;\n",
       "    }\n",
       "\n",
       "    .dataframe thead th {\n",
       "        text-align: right;\n",
       "    }\n",
       "</style>\n",
       "<table border=\"1\" class=\"dataframe\">\n",
       "  <thead>\n",
       "    <tr style=\"text-align: right;\">\n",
       "      <th></th>\n",
       "      <th>first_review</th>\n",
       "      <th>last_review</th>\n",
       "    </tr>\n",
       "  </thead>\n",
       "  <tbody>\n",
       "    <tr>\n",
       "      <th>count</th>\n",
       "      <td>17582</td>\n",
       "      <td>17582</td>\n",
       "    </tr>\n",
       "    <tr>\n",
       "      <th>unique</th>\n",
       "      <td>2076</td>\n",
       "      <td>1199</td>\n",
       "    </tr>\n",
       "    <tr>\n",
       "      <th>top</th>\n",
       "      <td>2016-03-30</td>\n",
       "      <td>2018-12-02</td>\n",
       "    </tr>\n",
       "    <tr>\n",
       "      <th>freq</th>\n",
       "      <td>83</td>\n",
       "      <td>492</td>\n",
       "    </tr>\n",
       "  </tbody>\n",
       "</table>\n",
       "</div>"
      ],
      "text/plain": [
       "       first_review last_review\n",
       "count         17582       17582\n",
       "unique         2076        1199\n",
       "top      2016-03-30  2018-12-02\n",
       "freq             83         492"
      ]
     },
     "execution_count": 58,
     "metadata": {},
     "output_type": "execute_result"
    }
   ],
   "source": [
    "df_first_last_review_analysis[['first_review','last_review']].describe()"
   ]
  },
  {
   "cell_type": "code",
   "execution_count": 65,
   "id": "f0a26bb8-550c-49a0-8852-6d82ed5f5188",
   "metadata": {},
   "outputs": [
    {
     "data": {
      "text/plain": [
       "count              10522\n",
       "unique                 4\n",
       "top       within an hour\n",
       "freq                5105\n",
       "Name: host_response_time, dtype: object"
      ]
     },
     "execution_count": 65,
     "metadata": {},
     "output_type": "execute_result"
    }
   ],
   "source": [
    "df_host_response_analysis['host_response_time'].describe()"
   ]
  },
  {
   "cell_type": "markdown",
   "id": "6d77f6d5-d477-4b43-8dd3-aae566b8468c",
   "metadata": {},
   "source": [
    "## 7. Saving Final files"
   ]
  },
  {
   "cell_type": "code",
   "execution_count": 68,
   "id": "a21a4375-fea5-4dc6-8819-238768a9ed84",
   "metadata": {},
   "outputs": [],
   "source": [
    "# Saving final dataframe\n",
    "df_listings_details.to_csv(os.path.join(path,'02 Data','Prepared Data', 'df_listings_details_cleaned.csv'))"
   ]
  }
 ],
 "metadata": {
  "kernelspec": {
   "display_name": "Python 3 (ipykernel)",
   "language": "python",
   "name": "python3"
  },
  "language_info": {
   "codemirror_mode": {
    "name": "ipython",
    "version": 3
   },
   "file_extension": ".py",
   "mimetype": "text/x-python",
   "name": "python",
   "nbconvert_exporter": "python",
   "pygments_lexer": "ipython3",
   "version": "3.11.5"
  }
 },
 "nbformat": 4,
 "nbformat_minor": 5
}
